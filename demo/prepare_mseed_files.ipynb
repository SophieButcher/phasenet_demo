{
 "cells": [
  {
   "cell_type": "code",
   "execution_count": 1,
   "id": "b4b7da03",
   "metadata": {
    "execution": {
     "iopub.execute_input": "2021-05-20T00:41:45.144852Z",
     "iopub.status.busy": "2021-05-20T00:41:45.144595Z",
     "iopub.status.idle": "2021-05-20T00:41:46.525497Z",
     "shell.execute_reply": "2021-05-20T00:41:46.524754Z",
     "shell.execute_reply.started": "2021-05-20T00:41:45.144819Z"
    }
   },
   "outputs": [
    {
     "name": "stdout",
     "output_type": "stream",
     "text": [
      "[UTCDateTime(2018, 6, 4, 0, 0)]\n"
     ]
    }
   ],
   "source": [
    "import obspy\n",
    "import os\n",
    "import pickle\n",
    "import datetime\n",
    "import time\n",
    "\n",
    "# Location\n",
    "pi = 3.1415926\n",
    "degree2km = pi*6371/180\n",
    "center = (-91.133, -0.815) # centre of caldera \n",
    "horizontal_degree = 0.5\n",
    "vertical_degree = 0.5\n",
    "zero_anchor = (center[0]-horizontal_degree, center[1]-vertical_degree)\n",
    "\n",
    "# Time\n",
    "starttime = obspy.UTCDateTime(\"2018-06-04T00:00:00\")\n",
    "endtime = obspy.UTCDateTime(\"2018-06-05T00:00:00\")\n",
    "\n",
    "# seismic stations\n",
    "network_list = \"8G\"\n",
    "# channel_list = \"HNE,HNN,HNZ,HHE,HHN,HHZ,BHE,BHN,BHZ,EHE,EHN,EHZ\"\n",
    "channel_list = \"HHE,HHN,HHZ\"\n",
    "\n",
    "config_file = \"config.pkl\"\n",
    "datetime_file = \"datetimes.pkl\"\n",
    "station_file = \"stations.pkl\"\n",
    "data_path = \"./mseed/\"\n",
    "station_list = \"stations.csv\"\n",
    "fname_list = \"mseed.csv\"\n",
    "if not os.path.exists(data_path):\n",
    "    os.mkdir(data_path)\n",
    "####### save config ########\n",
    "config = {}\n",
    "config[\"center\"] = center\n",
    "config[\"horizontal_degree\"] = horizontal_degree\n",
    "config[\"vertical_degree\"] = vertical_degree\n",
    "config[\"zero_anchor\"] = zero_anchor\n",
    "config[\"xlim\"] = [0, horizontal_degree*2*degree2km]\n",
    "config[\"ylim\"] = [0, vertical_degree*2*degree2km]\n",
    "config[\"anchor\"] = zero_anchor\n",
    "config[\"degree2km\"] = degree2km\n",
    "config[\"starttime\"] = starttime\n",
    "config[\"endtime\"] = endtime\n",
    "config[\"networks\"] = network_list\n",
    "config[\"channels\"] = channel_list\n",
    "config[\"network_list\"] = network_list\n",
    "config[\"channel_list\"] = channel_list\n",
    "with open(config_file, \"wb\") as fp:\n",
    "    pickle.dump(config, fp)\n",
    "\n",
    "one_day = datetime.timedelta(days=1)\n",
    "one_hour = datetime.timedelta(hours=1)\n",
    "one_minute = datetime.timedelta(minutes=1)\n",
    "invertal = 1*one_day\n",
    "starttimes = []\n",
    "tmp_start = starttime\n",
    "while tmp_start < endtime:\n",
    "    starttimes.append(tmp_start)\n",
    "    tmp_start += invertal\n",
    "\n",
    "with open(datetime_file, \"wb\") as fp:\n",
    "    pickle.dump({\"starttimes\": starttimes, \"interval\": invertal}, fp)\n",
    "\n",
    "print(starttimes)"
   ]
  },
  {
   "cell_type": "code",
   "execution_count": 2,
   "id": "5e84ccf2",
   "metadata": {
    "execution": {
     "iopub.execute_input": "2021-05-20T00:41:46.527890Z",
     "iopub.status.busy": "2021-05-20T00:41:46.527614Z",
     "iopub.status.idle": "2021-05-20T00:41:48.113876Z",
     "shell.execute_reply": "2021-05-20T00:41:48.112875Z",
     "shell.execute_reply.started": "2021-05-20T00:41:46.527859Z"
    }
   },
   "outputs": [
    {
     "name": "stdout",
     "output_type": "stream",
     "text": [
      "Number of stations: 10\n"
     ]
    },
    {
     "data": {
      "image/png": "[encoded data removed]",
      "text/plain": [
       "<Figure size 432x288 with 1 Axes>"
      ]
     },
     "metadata": {
      "needs_background": "light"
     },
     "output_type": "display_data"
    }
   ],
   "source": [
    "from obspy.clients.fdsn import Client\n",
    "import matplotlib\n",
    "# matplotlib.use(\"agg\")\n",
    "import matplotlib.pyplot as plt\n",
    "from collections import defaultdict\n",
    "import pandas as pd\n",
    "\n",
    "with open(config_file, \"rb\") as fp:\n",
    "    config = pickle.load(fp)\n",
    "\n",
    "####### Download stations ########\n",
    "stations = Client(\"IRIS\").get_stations(network = config[\"network_list\"],\n",
    "                                       station = \"*\",\n",
    "                                       starttime=config[\"starttime\"],\n",
    "                                       endtime=config[\"endtime\"],\n",
    "                                       minlatitude=config[\"center\"][1]-config[\"vertical_degree\"],\n",
    "                                       maxlatitude=config[\"center\"][1]+config[\"vertical_degree\"],\n",
    "                                       minlongitude=config[\"center\"][0]-config[\"horizontal_degree\"],\n",
    "                                       maxlongitude=config[\"center\"][0]+config[\"horizontal_degree\"],\n",
    "                                       channel=config[\"channel_list\"],\n",
    "                                       level=\"response\",\n",
    "                                       filename=os.path.join(data_path, 'stations.xml'))\n",
    "\n",
    "stations = obspy.read_inventory(os.path.join(data_path, 'stations.xml'))\n",
    "print(\"Number of stations: {}\".format(sum([len(x) for x in stations])))\n",
    "# stations.plot('local', outfile=\"stations.png\")\n",
    "\n",
    "####### Save stations ########\n",
    "station_locs = defaultdict(dict)\n",
    "for network in stations:\n",
    "    for station in network:\n",
    "        for chn in station:\n",
    "            x = (chn.longitude - config[\"zero_anchor\"][0])*config[\"degree2km\"]\n",
    "            y = (chn.latitude - config[\"zero_anchor\"][1])*config[\"degree2km\"]\n",
    "            z = -chn.elevation / 1e3 #km\n",
    "            sid = f\"{network.code}.{station.code}.{chn.location_code}.{chn.code[:-1]}\"\n",
    "            if sid in station_locs:\n",
    "                station_locs[sid][\"component\"] += f\",{chn.code[-1]}\"\n",
    "                station_locs[sid][\"response\"] += f\",{chn.response.instrument_sensitivity.value:.2f}\"\n",
    "            else:\n",
    "                component = f\"{chn.code[-1]}\"\n",
    "                response = f\"{chn.response.instrument_sensitivity.value:.2f}\"\n",
    "                dtype = chn.response.instrument_sensitivity.input_units.lower()\n",
    "                tmp_dict = {}\n",
    "                tmp_dict[\"x(km)\"], tmp_dict[\"y(km)\"], tmp_dict[\"z(km)\"] = x, y, z\n",
    "                tmp_dict[\"lng\"], tmp_dict[\"lat\"], tmp_dict[\"elv(m)\"] = chn.longitude, chn.latitude, chn.elevation\n",
    "                tmp_dict[\"component\"], tmp_dict[\"response\"], tmp_dict[\"unit\"] = component, response, dtype\n",
    "                station_locs[sid] = tmp_dict\n",
    "station_locs = pd.DataFrame.from_dict(station_locs, orient='index')\n",
    "station_locs.to_csv(station_list,\n",
    "                    sep=\"\\t\", float_format=\"%.3f\",\n",
    "                    index_label=\"station\",\n",
    "                    columns=[\"x(km)\", \"y(km)\", \"z(km)\", \"lat\", \"lng\", \"elv(m)\", \"unit\", \"component\", \"response\"])\n",
    "\n",
    "#     ####### Plot stations ########\n",
    "plt.figure()\n",
    "plt.plot(station_locs[\"x(km)\"], station_locs[\"y(km)\"], \"^\", label=\"Stations\")\n",
    "#     plt.plot(catalog[\"x(km)\"], catalog[\"y(km)\"], \"k.\", label=\"Earthquakes\")\n",
    "plt.xlabel(\"X (km)\")\n",
    "plt.ylabel(\"Y (km)\")\n",
    "plt.axis(\"scaled\")\n",
    "plt.legend()\n",
    "plt.title(f\"Number of stations: {len(station_locs)}\")\n",
    "#     plt.savefig(os.path.join(data_path, \"stations_events.png\"))\n",
    "plt.show()\n",
    "\n",
    "with open(station_file, \"wb\") as fp:\n",
    "    pickle.dump(stations, fp)"
   ]
  },
  {
   "cell_type": "code",
   "execution_count": 3,
   "id": "22f47bde",
   "metadata": {
    "execution": {
     "iopub.execute_input": "2021-05-20T00:41:48.116058Z",
     "iopub.status.busy": "2021-05-20T00:41:48.115781Z",
     "iopub.status.idle": "2021-05-20T00:43:12.303676Z",
     "shell.execute_reply": "2021-05-20T00:43:12.302852Z",
     "shell.execute_reply.started": "2021-05-20T00:41:48.116015Z"
    }
   },
   "outputs": [
    {
     "name": "stdout",
     "output_type": "stream",
     "text": [
      "2018-06-04T00:00.mseed download starts\n",
      "*** SN01 ***\n",
      "2018-06-04T00:00.mseed: MAX 3 retries reached : 8G.SN01 with error: No data available for request.\n",
      "HTTP Status code: 204\n",
      "Detailed response of server:\n",
      "\n",
      "\n",
      "*** SN03 ***\n",
      "2018-06-04T00:00.mseed: MAX 3 retries reached : 8G.SN03 with error: No data available for request.\n",
      "HTTP Status code: 204\n",
      "Detailed response of server:\n",
      "\n",
      "\n",
      "*** SN04 ***\n",
      "Read in waveform\n",
      "Removed instrument response\n"
     ]
    },
    {
     "name": "stderr",
     "output_type": "stream",
     "text": [
      "/opt/anaconda3/envs/phasenet/lib/python3.7/site-packages/obspy/io/mseed/core.py:770: UserWarning: The encoding specified in trace.stats.mseed.encoding does not match the dtype of the data.\n",
      "A suitable encoding will be chosen.\n",
      "  warnings.warn(msg, UserWarning)\n"
     ]
    },
    {
     "name": "stdout",
     "output_type": "stream",
     "text": [
      "Written miniseed file\n",
      "Written sac file\n",
      "Written sac file\n",
      "Written sac file\n",
      "*** SN05 ***\n",
      "Read in waveform\n",
      "Removed instrument response\n"
     ]
    },
    {
     "name": "stderr",
     "output_type": "stream",
     "text": [
      "/opt/anaconda3/envs/phasenet/lib/python3.7/site-packages/obspy/io/mseed/core.py:770: UserWarning: The encoding specified in trace.stats.mseed.encoding does not match the dtype of the data.\n",
      "A suitable encoding will be chosen.\n",
      "  warnings.warn(msg, UserWarning)\n"
     ]
    },
    {
     "name": "stdout",
     "output_type": "stream",
     "text": [
      "Written miniseed file\n",
      "Written sac file\n",
      "Written sac file\n",
      "Written sac file\n",
      "*** SN07 ***\n",
      "Read in waveform\n",
      "Removed instrument response\n"
     ]
    },
    {
     "name": "stderr",
     "output_type": "stream",
     "text": [
      "/opt/anaconda3/envs/phasenet/lib/python3.7/site-packages/obspy/io/mseed/core.py:770: UserWarning: The encoding specified in trace.stats.mseed.encoding does not match the dtype of the data.\n",
      "A suitable encoding will be chosen.\n",
      "  warnings.warn(msg, UserWarning)\n"
     ]
    },
    {
     "name": "stdout",
     "output_type": "stream",
     "text": [
      "Written miniseed file\n",
      "Written sac file\n",
      "Written sac file\n",
      "Written sac file\n",
      "*** SN08 ***\n",
      "2018-06-04T00:00.mseed: MAX 3 retries reached : 8G.SN08 with error: No data available for request.\n",
      "HTTP Status code: 204\n",
      "Detailed response of server:\n",
      "\n",
      "\n",
      "*** SN11 ***\n",
      "Read in waveform\n",
      "Removed instrument response\n"
     ]
    },
    {
     "name": "stderr",
     "output_type": "stream",
     "text": [
      "/opt/anaconda3/envs/phasenet/lib/python3.7/site-packages/obspy/io/mseed/core.py:770: UserWarning: The encoding specified in trace.stats.mseed.encoding does not match the dtype of the data.\n",
      "A suitable encoding will be chosen.\n",
      "  warnings.warn(msg, UserWarning)\n"
     ]
    },
    {
     "name": "stdout",
     "output_type": "stream",
     "text": [
      "Written miniseed file\n",
      "Written sac file\n",
      "Written sac file\n",
      "Written sac file\n",
      "*** SN12 ***\n",
      "Read in waveform\n",
      "Removed instrument response\n"
     ]
    },
    {
     "name": "stderr",
     "output_type": "stream",
     "text": [
      "/opt/anaconda3/envs/phasenet/lib/python3.7/site-packages/obspy/io/mseed/core.py:770: UserWarning: The encoding specified in trace.stats.mseed.encoding does not match the dtype of the data.\n",
      "A suitable encoding will be chosen.\n",
      "  warnings.warn(msg, UserWarning)\n"
     ]
    },
    {
     "name": "stdout",
     "output_type": "stream",
     "text": [
      "Written miniseed file\n",
      "Written sac file\n",
      "Written sac file\n",
      "Written sac file\n",
      "*** SN13 ***\n",
      "Read in waveform\n",
      "Removed instrument response\n"
     ]
    },
    {
     "name": "stderr",
     "output_type": "stream",
     "text": [
      "/opt/anaconda3/envs/phasenet/lib/python3.7/site-packages/obspy/io/mseed/core.py:770: UserWarning: The encoding specified in trace.stats.mseed.encoding does not match the dtype of the data.\n",
      "A suitable encoding will be chosen.\n",
      "  warnings.warn(msg, UserWarning)\n"
     ]
    },
    {
     "name": "stdout",
     "output_type": "stream",
     "text": [
      "Written miniseed file\n",
      "Written sac file\n",
      "Written sac file\n",
      "Written sac file\n",
      "*** SN14 ***\n",
      "Read in waveform\n",
      "Removed instrument response\n"
     ]
    },
    {
     "name": "stderr",
     "output_type": "stream",
     "text": [
      "/opt/anaconda3/envs/phasenet/lib/python3.7/site-packages/obspy/io/mseed/core.py:770: UserWarning: The encoding specified in trace.stats.mseed.encoding does not match the dtype of the data.\n",
      "A suitable encoding will be chosen.\n",
      "  warnings.warn(msg, UserWarning)\n"
     ]
    },
    {
     "name": "stdout",
     "output_type": "stream",
     "text": [
      "Written miniseed file\n",
      "Written sac file\n",
      "Written sac file\n",
      "Written sac file\n"
     ]
    },
    {
     "name": "stderr",
     "output_type": "stream",
     "text": [
      "/opt/anaconda3/envs/phasenet/lib/python3.7/site-packages/obspy/io/mseed/core.py:825: UserWarning: File will be written with more than one different byteorders.\n",
      "This might have a negative influence on the compatibility with other programs.\n",
      "  warnings.warn(msg % 'byteorders')\n"
     ]
    },
    {
     "name": "stdout",
     "output_type": "stream",
     "text": [
      "2018-06-04T00:00.mseed download succeeds\n",
      "['8G.SN11.2018-06-04T00:00.mseed', '8G.SN13.2018-06-04T00:00.mseed', '8G.SN04.2018-06-04T00:00.mseed', '8G.SN07.2018-06-04T00:00.mseed', '8G.SN05.2018-06-04T00:00.mseed', '2018-06-04T00:00.mseed', '8G.SN12.2018-06-04T00:00.mseed', '8G.SN14.2018-06-04T00:00.mseed']\n"
     ]
    }
   ],
   "source": [
    "with open(config_file, \"rb\") as fp:\n",
    "    config = pickle.load(fp)\n",
    "with open(datetime_file, \"rb\") as fp:\n",
    "    tmp = pickle.load(fp)\n",
    "    starttimes = tmp[\"starttimes\"]\n",
    "    interval = tmp[\"interval\"]\n",
    "with open(station_file, \"rb\") as fp:\n",
    "    stations = pickle.load(fp)\n",
    "\n",
    "waveform_dir = os.path.join(data_path, \"waveforms\")\n",
    "sac_dir = os.path.join(data_path, \"sac\")\n",
    "if not os.path.exists(waveform_dir):\n",
    "    os.mkdir(waveform_dir)\n",
    "if not os.path.exists(sac_dir):\n",
    "    os.mkdir(sac_dir)\n",
    "####### Download data ########\n",
    "client = Client(\"IRIS\")\n",
    "fname_sac = open(\"sac.csv\", \"w\")\n",
    "fname_sac.write(\"fname\\tE\\tN\\tZ\\n\")\n",
    "fp = open(fname_list, \"w\")\n",
    "fp.write(\"fname\\n\")\n",
    "# for i in idx: \n",
    "for i in range(len(starttimes)):\n",
    "    starttime = starttimes[i] \n",
    "    endtime = starttime + interval\n",
    "    fname = \"{}.mseed\".format(starttime.datetime.strftime(\"%Y-%m-%dT%H:%M\"))\n",
    "\n",
    "    max_retry = 3\n",
    "    stream = obspy.Stream()\n",
    "    print(f\"{fname} download starts\")\n",
    "    for network in stations:\n",
    "        for station in network:\n",
    "            print(\"***\", station.code, \"***\")\n",
    "            retry = 0\n",
    "            while retry < max_retry:\n",
    "                try:\n",
    "                    tmp = client.get_waveforms(network.code, station.code, \"*\", config[\"channel_list\"], starttime, endtime, attach_response=True)\n",
    "                    print(\"Read in waveform\")\n",
    "                    tmp.remove_sensitivity()\n",
    "                    print(\"Removed instrument response\")\n",
    "                    tmp.write(os.path.join(waveform_dir, f\"{network.code}.{station.code}.{fname}\"))\n",
    "                    print(\"Written miniseed file\")\n",
    "                    line = f\"{network.code}.{station.code}.{fname.rstrip('.mseed')}\"\n",
    "                    for c in config[\"channel_list\"].split(\",\"):\n",
    "                        x = tmp.select(channel=c)\n",
    "                        x.write(os.path.join(sac_dir, f\"{network.code}.{station.code}.{fname.rstrip('.mseed')}.{c}.sac\"), format='SAC')\n",
    "                        line += f\"\\t{network.code}.{station.code}.{fname.rstrip('.mseed')}.{c}.sac\"\n",
    "                        print(\"Written sac file\")\n",
    "                    line += \"\\n\"\n",
    "                    fname_sac.write(line)\n",
    "                    stream += tmp\n",
    "                    break\n",
    "                except Exception as e:\n",
    "                    err = e\n",
    "                    retry += 1\n",
    "                    time.sleep(1)\n",
    "                    continue\n",
    "            if retry == max_retry:\n",
    "                print(f\"{fname}: MAX {max_retry} retries reached : {network.code}.{station.code} with error: {err}\")\n",
    "    if not os.path.exists(waveform_dir):\n",
    "        os.makedirs(waveform_dir)\n",
    "    stream.write(os.path.join(waveform_dir, fname))\n",
    "    print(f\"{fname} download succeeds\")\n",
    "    fp.write(f\"{fname}\\n\")\n",
    "    \n",
    "\n",
    "fp.close()\n",
    "fname_sac.close()\n",
    "print(os.listdir(waveform_dir))"
   ]
  },
  {
   "cell_type": "code",
   "execution_count": 5,
   "id": "4d5294f8",
   "metadata": {},
   "outputs": [
    {
     "data": {
      "text/plain": [
       "'/Volumes/sbutcher/ML in Seismology/PhaseNet_Tutorial/PhaseNet/demo'"
      ]
     },
     "execution_count": 5,
     "metadata": {},
     "output_type": "execute_result"
    }
   ],
   "source": [
    "pwd"
   ]
  },
  {
   "cell_type": "code",
   "execution_count": 6,
   "id": "1f918495",
   "metadata": {
    "execution": {
     "iopub.execute_input": "2021-05-20T01:06:17.361635Z",
     "iopub.status.busy": "2021-05-20T01:06:17.361349Z",
     "iopub.status.idle": "2021-05-20T01:06:17.567656Z",
     "shell.execute_reply": "2021-05-20T01:06:17.566339Z",
     "shell.execute_reply.started": "2021-05-20T01:06:17.361608Z"
    }
   },
   "outputs": [],
   "source": [
    "!echo \"fname\" > mseed_station.csv && cd mseed/waveforms && ls 8G* >> ../mseed_station.csv"
   ]
  },
  {
   "cell_type": "code",
   "execution_count": 7,
   "id": "6ba3442f",
   "metadata": {
    "execution": {
     "iopub.execute_input": "2021-05-20T01:06:17.615290Z",
     "iopub.status.busy": "2021-05-20T01:06:17.614852Z",
     "iopub.status.idle": "2021-05-20T01:06:17.828905Z",
     "shell.execute_reply": "2021-05-20T01:06:17.817450Z",
     "shell.execute_reply.started": "2021-05-20T01:06:17.615250Z"
    }
   },
   "outputs": [],
   "source": [
    "!echo \"fname\" > mseed.csv && cd mseed/waveforms && ls 2018* >> ../mseed.csv"
   ]
  },
  {
   "cell_type": "code",
   "execution_count": 1,
   "id": "0dfba21b",
   "metadata": {
    "execution": {
     "iopub.execute_input": "2021-05-20T01:06:18.080139Z",
     "iopub.status.busy": "2021-05-20T01:06:18.079810Z",
     "iopub.status.idle": "2021-05-20T01:06:18.257492Z",
     "shell.execute_reply": "2021-05-20T01:06:18.256475Z",
     "shell.execute_reply.started": "2021-05-20T01:06:18.080113Z"
    }
   },
   "outputs": [
    {
     "name": "stdout",
     "output_type": "stream",
     "text": [
      "fname\r\n",
      "8G.SN04.2018-06-04T00:00.mseed\r\n",
      "8G.SN05.2018-06-04T00:00.mseed\r\n",
      "8G.SN07.2018-06-04T00:00.mseed\r\n",
      "8G.SN11.2018-06-04T00:00.mseed\r\n",
      "8G.SN12.2018-06-04T00:00.mseed\r\n",
      "8G.SN13.2018-06-04T00:00.mseed\r\n",
      "8G.SN14.2018-06-04T00:00.mseed\r\n"
     ]
    }
   ],
   "source": [
    "!cat mseed/mseed_station.csv"
   ]
  },
  {
   "cell_type": "code",
   "execution_count": 2,
   "id": "9e92884d",
   "metadata": {
    "execution": {
     "iopub.execute_input": "2021-05-20T01:06:18.620472Z",
     "iopub.status.busy": "2021-05-20T01:06:18.619978Z",
     "iopub.status.idle": "2021-05-20T01:06:18.814038Z",
     "shell.execute_reply": "2021-05-20T01:06:18.812883Z",
     "shell.execute_reply.started": "2021-05-20T01:06:18.620439Z"
    }
   },
   "outputs": [
    {
     "name": "stdout",
     "output_type": "stream",
     "text": [
      "fname\r\n",
      "2018-06-04T00:00.mseed\r\n"
     ]
    }
   ],
   "source": [
    "!cat mseed/mseed.csv"
   ]
  },
  {
   "cell_type": "code",
   "execution_count": 10,
   "id": "9a92d5cd",
   "metadata": {
    "execution": {
     "iopub.execute_input": "2021-05-20T01:06:19.137827Z",
     "iopub.status.busy": "2021-05-20T01:06:19.136846Z",
     "iopub.status.idle": "2021-05-20T01:06:19.336054Z",
     "shell.execute_reply": "2021-05-20T01:06:19.334664Z",
     "shell.execute_reply.started": "2021-05-20T01:06:19.137751Z"
    }
   },
   "outputs": [
    {
     "name": "stdout",
     "output_type": "stream",
     "text": [
      "rm: stations.xml: No such file or directory\r\n"
     ]
    }
   ],
   "source": [
    "!rm stations.xml stations.pkl datetimes.pkl config.pkl"
   ]
  },
  {
   "cell_type": "code",
   "execution_count": null,
   "id": "7296d17b",
   "metadata": {},
   "outputs": [],
   "source": []
  }
 ],
 "metadata": {
  "interpreter": {
   "hash": "f4d5179fc222eb76bfd3dcff5bf88b43751287e77ddc0be170fe093e3076340e"
  },
  "kernelspec": {
   "display_name": "Python 3",
   "language": "python",
   "name": "python3"
  },
  "language_info": {
   "codemirror_mode": {
    "name": "ipython",
    "version": 3
   },
   "file_extension": ".py",
   "mimetype": "text/x-python",
   "name": "python",
   "nbconvert_exporter": "python",
   "pygments_lexer": "ipython3",
   "version": "3.7.13"
  }
 },
 "nbformat": 4,
 "nbformat_minor": 5
}
